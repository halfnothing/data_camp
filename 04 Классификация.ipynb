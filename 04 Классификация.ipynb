{
 "cells": [
  {
   "cell_type": "markdown",
   "metadata": {},
   "source": [
    "# Обучение с учителем"
   ]
  },
  {
   "cell_type": "markdown",
   "metadata": {},
   "source": [
    "## Типы задач машинного обучения\n",
    "\n",
    "Задачи машинного обучения можно поделить на следующие типы, в зависимости вида обучающей выборки и дальнейшей стратегии работы с полученными результатами\n",
    "\n",
    "* Обучение с учителем (*supervised learning*) - каждый объект обучающей выборки представляет из себя пару «объект, ответ». Требуется найти функциональную зависимость ответов от описаний объектов и построить алгоритм, принимающий на входе признаковое описание объекта и выдающий на выходе ответ.\n",
    " * Регрессия - на выходе количественный признак.\n",
    " * Классификация - на выходе метка класса.\n",
    " * Прогнозирование - на вход подаются временные ряды, каждый следующий элемент ряда зависит от предыдущих, на выходе количественный признак или метка класса (для задач принятия решения).\n",
    "* Обучение без учителя (*unsupervised learning*) - поиск взаимосвязей между объектами обучающей выборки.\n",
    " * Кластеризация - группировка объектов на кластеры в зависимости от расстояния между ними.\n",
    " * Сокращение размерности заключается в поиске зависимости между признаками и получение новых признаков, на основе этой зависимости. \n",
    " * Поиск выбросов, например, с целью повысить качество обучающей выборки.\n",
    " * Заполнение пропущеных значений, когда в значения некоторых признаков у объктов отсутствуют.\n",
    " \n",
    "Существует ещё целый ряд задач (частичное обучение, обучение с подкреплением, динамическое обучение и т.д.), которые в некоторых случаях являются комбинацией задач обучения с учителем и без учителя."
   ]
  },
  {
   "cell_type": "markdown",
   "metadata": {},
   "source": [
    "## Задача обучения с учителем. Регрессия\n",
    "\n",
    "Просто говоря, обучение с учителем это когда у нас есть таблица данных $n$ столбцов на $m$ объектов или sample-ов, также имеется дополнительный столбец ($y$\n",
    ") содержащий значения зависимой переменной. Начнем с ситуации когда $y$ -  количественный признак, т.е. просто число от -$\\infty$ до + $\\infty$. Задачей <b>регрессии</b> называется  поиск функциональной зависимости между вектором $\\mathbf{x}$ и количественным признаком $y$. \n"
   ]
  },
  {
   "cell_type": "markdown",
   "metadata": {},
   "source": [
    "## Метод наименьших квадратов или градиентный спуск?\n",
    "\n",
    "### Метод наименьших квадратов\n",
    "\n",
    "Рассмотрим ситуацию с весьма простой но полезной модели, а именно <b>линейной регрессии</b> - когда искомая зависимость выражается в виде прямой линии $y = bx + a$, где $b$ - угловой коэффициент прямой, а $a$ - точка пересечения с осью абцисс.\n",
    "\n",
    "Один из способов найти $a$ и $b$ это метод наименьших квадратов, получивший свое распространение в эконометрике и некоторых естественных науках. Этот метод основан том что мы стараемся уменьшить сумму квадратов рассстояний от каждой точки до прямой.\n",
    "\n",
    "![classification_img1.bmp](media/classification_img1.bmp)\n",
    "\n",
    "Для этого найдем частные производные  $F(a,b)=\\sum \\limits _{j=1} ^m (y_j - (bx_j + a))^2$ по искомым коэффициентам приравняем к нулю:  \n",
    "$\\begin{cases}\n",
    "\\frac{\\partial F(a,b)}{\\partial a} =0\\\\\n",
    "\\frac{\\partial F(a,b)}{\\partial b} =0\n",
    "\\end{cases}⇔\n",
    "\\begin{cases}\n",
    "-2\\sum \\limits _{j=1} ^m (y_j - (bx_j + a)) = 0\\\\\n",
    "-2\\sum \\limits _{j=1} ^m (y_j - (bx_j + a)x) = 0\n",
    "\\end{cases}$\n",
    "\n",
    "Поделим на -2, раскроем скобки и запишим все слогаемые под знаком сумм в виде отдельных сумм:\n",
    "\n",
    "$\\begin{cases}\n",
    "b\\sum \\limits _{j=1} ^m x_j + \\sum \\limits _{j=1} ^m a = \\sum \\limits _{j=1} ^m y_j\\\\\n",
    "b\\sum \\limits _{j=1} ^m x_j^2 + a\\sum \\limits _{j=1} ^m x_j = \\sum \\limits _{j=1} ^m y_j x_j\n",
    "\\end{cases}⇔\n",
    "\\begin{cases}\n",
    "b\\sum \\limits _{j=1} ^m x_j + am = \\sum \\limits _{j=1} ^m y_j\\\\\n",
    "b\\sum \\limits _{j=1} ^m x_j^2 + a\\sum \\limits _{j=1} ^m x_j = \\sum \\limits _{j=1} ^m y_j x_j\n",
    "\\end{cases}$\n",
    "\n",
    "Решение этой системы и будет наше искомое решение:\n",
    "\n",
    "$\\begin{cases}\n",
    "b = \\frac {m\\sum \\limits _{j=1} ^m x_j y_j - \\sum \\limits _{j=1} ^m x_j \\sum \\limits _{j=1} ^m y_j} {m\\sum \\limits _{j=1} ^m x_j^2-(\\sum \\limits _{j=1} ^m x_j)^2}\\\\\n",
    "a = \\frac {\\sum \\limits _{j=1} ^m y_j + b\\sum \\limits _{j=1} ^m x_j} {m}\n",
    "\\end{cases}$\n",
    "\n",
    "Такой же ход решения сохраняется и при более подгонки под нелинейную форму аппроксимирующей линии, однако он еще более громоздкий и сейчас изучать его смысла особого нет.\n",
    "\n",
    "Ещё один шаг к обощению заключается в переходе от двумерного случая с одним $x$-ом к случаю когда размерность $n > 1$. В таком случае решается система векторных уравнений, в таком виде она выглядет намного компактней, однако количество вычислений будет расти как квадрат размерности.\n",
    "\n",
    "### Градиентный спуск\n",
    "\n",
    "Градиентный спуск вместо приравнивания производной к нулю и решения относительно a, b мы просто делаем небольшие шаги в направлении градиента, пока не подберём подходящие значения. Ещё раз на производную ошибки в уравнении линейной регресии, только теперь найдём её среднее значение поделив на размер выборки $m$:\n",
    "\n",
    "$\n",
    "\\frac{\\partial F(a,b)}{\\partial a} = \\frac{-2\\sum \\limits _{j=1} ^m (y_j - (bx_j + a))}{m}\\\\\n",
    "\\frac{\\partial F(a,b)}{\\partial b} =\\frac{-2\\sum \\limits _{j=1} ^m (y_j - (bx_j + a)x)}{m}\n",
    "$\n",
    "\n"
   ]
  },
  {
   "cell_type": "code",
   "execution_count": null,
   "metadata": {},
   "outputs": [],
   "source": [
    "# Для работы с данными нам понадобятся numpy и pandas\n",
    "import numpy as np # np - общепринятое сокращение\n",
    "import pandas as pd # pd - общепринятое сокращение\n",
    "\n",
    "\n",
    "dataset = pd.read_csv(\n",
    "    'data/dataset-weight-height.csv', \n",
    "    sep=',', # что является разделителем колонок в файле,\n",
    "    decimal='.', # что является разделителем десятичных дробей в записи чисел\n",
    "    parse_dates=[], # мы знаем, что дат у нас нет, если бы они были, здесь можно было бы перечислить колонки\n",
    "    header=0,  # названия колонок в первой строке\n",
    "    nrows=300  # количество строк\n",
    ")\n",
    "\n",
    "dataset['Height'] *= 2.54\n",
    "dataset['Weight'] /= 2.205\n",
    "\n",
    "# посмотрим на случайные 10 записей\n",
    "dataset.sample(10)"
   ]
  },
  {
   "cell_type": "code",
   "execution_count": null,
   "metadata": {},
   "outputs": [],
   "source": [
    "%matplotlib inline\n",
    "# важная строка, если надо чтобы диаграммы выводились в тетрадке\n",
    "# она должна быть раньше всех, прежде чем что-то рисовать\n",
    "\n",
    "import matplotlib.pyplot as plt # тоже общепринятое сокращение\n",
    "import seaborn as sns\n",
    "\n",
    "\n",
    "data_male = dataset[dataset['Gender'] == 'Male'].copy() # Оставим только выборку из мужчин\n",
    "\n",
    "sns.set(style='whitegrid', context='notebook')\n",
    "sns.pairplot(data_male.loc[:, ['Height', 'Weight']])\n",
    "plt.show()"
   ]
  },
  {
   "cell_type": "markdown",
   "metadata": {},
   "source": [
    "Теперь дававйте построим модели\n",
    "* коэффициенты которой были получены с помощью решения уравней - LinearRegression;\n",
    "* Гребневая регрессия или ridge-регресиия, в которой при градиентном спуске в функции потерь есть слагаемое накладывающее штраф на величину весов (регуляризация) - Ridge"
   ]
  },
  {
   "cell_type": "code",
   "execution_count": null,
   "metadata": {},
   "outputs": [],
   "source": [
    "from sklearn.model_selection import train_test_split  # эта функция нужна для разделения выборки на тестовую и обучающую\n",
    "\n",
    "\n",
    "X_train, X_test, y_train, y_test = train_test_split(\n",
    "    data_male.iloc[:, 1].values.reshape(-1, 1),  # В качестве X возьмем второй признак из таблицы\n",
    "    data_male.iloc[:, -1].values.reshape(-1, 1), # В качестве y последний признак из таблицы\n",
    "    test_size = 0.3, # 30% выборки оставим на проверку качества модели\n",
    "    random_state = 2020)  # Зафиксируем случайный фактор при разделении"
   ]
  },
  {
   "cell_type": "code",
   "execution_count": null,
   "metadata": {},
   "outputs": [],
   "source": [
    "from sklearn.linear_model import LinearRegression, Ridge  # Выполним необходимые импорты\n",
    "\n",
    "\n",
    "regression_linear = LinearRegression()\n",
    "regression_ridge = Ridge(alpha=0.5)\n",
    "\n",
    "regression_linear.fit(X_train, y_train)  # метод .fit производит подбор весов на основе переданных данных\n",
    "regression_ridge.fit(X_train, y_train)\n",
    "\n",
    "linear_predict = regression_linear.predict(X_test)\n",
    "ridge_predict = regression_ridge.predict(X_test)"
   ]
  },
  {
   "cell_type": "code",
   "execution_count": null,
   "metadata": {},
   "outputs": [],
   "source": [
    "# Посмотрим что получилось\n",
    "plt.scatter(X_train, y_train, color='red')\n",
    "plt.plot(X_train, regression_linear.predict(X_train), color='blue')\n",
    "plt.plot(X_train, regression_ridge.predict(X_train), color='green')\n",
    "plt.title('Height vs Weight (Train Set)')\n",
    "plt.xlabel('Height')\n",
    "plt.ylabel('Weight')\n",
    "plt.show()"
   ]
  },
  {
   "cell_type": "markdown",
   "metadata": {},
   "source": [
    "При наложении на график обучающей выборки прямые совпали. Попробуем сравнить графики тестовых выборок."
   ]
  },
  {
   "cell_type": "code",
   "execution_count": null,
   "metadata": {},
   "outputs": [],
   "source": [
    "# Посмотрим что получилось\n",
    "plt.scatter(X_test, y_test, color='red')\n",
    "plt.plot(X_test, linear_predict, color='blue')\n",
    "plt.plot(X_test, ridge_predict, color='green')\n",
    "plt.title('Height vs Weight (Test Set)')\n",
    "plt.xlabel('Height')\n",
    "plt.ylabel('Weight')\n",
    "plt.show()"
   ]
  },
  {
   "cell_type": "markdown",
   "metadata": {},
   "source": [
    "Точно такая же ситуация, попробуем сравнить показатели качестваи коэффициенты регресии полученных моделей. Самой распространенной метрикой в задачах регрессии является $R^2$. Она всегда меньше либо равна единице, чем ближе к единице - тем лучше предсказания модели совпадают с истинными значениями. Если она равна нулю, то предсказание идёт средним значением целевой величины (ниже нуля - еще хуже)."
   ]
  },
  {
   "cell_type": "code",
   "execution_count": null,
   "metadata": {},
   "outputs": [],
   "source": [
    "from sklearn.metrics import r2_score\n",
    "\n",
    "print(\"Линейная регрессия и ридж-регрессия:  %.5f, %.5f\" % (\n",
    "    r2_score(y_test, linear_predict),\n",
    "    r2_score(y_test, ridge_predict)\n",
    "))"
   ]
  },
  {
   "cell_type": "markdown",
   "metadata": {},
   "source": [
    "Разница в точности в пятом знаке после запятой!"
   ]
  },
  {
   "cell_type": "code",
   "execution_count": null,
   "metadata": {
    "scrolled": true
   },
   "outputs": [],
   "source": [
    "print(f'LinearRegression: Укловой коэффициент модели - {regression_linear.coef_}, точка пересечения с осью ординат {regression_linear.intercept_}')\n",
    "print(f'Ridge: Укловой коэффициент модели {regression_ridge.coef_}, точка пересечения с осью ординат  {regression_ridge.intercept_}')"
   ]
  },
  {
   "cell_type": "markdown",
   "metadata": {},
   "source": [
    "Обратите внимение что параметры .coef_ и .interception являются списками."
   ]
  },
  {
   "cell_type": "markdown",
   "metadata": {},
   "source": [
    "## Задача классификации в машинном обучении"
   ]
  },
  {
   "cell_type": "markdown",
   "metadata": {},
   "source": [
    "## Постановка задачи классификации\n",
    "<br>  \n",
    "Пусть имеется множество *объектов* (ситуаций), разделённых некоторым образом на классы. Задано конечное множество объектов, для которых известно, к каким классам они относятся.\n",
    "<br>  \n",
    "**Классифицировать объект** — значит, указать номер (или наименование класса), к которому относится данный объект.  \n",
    "<br>\n",
    "**Классификация** объекта — номер или наименование класса, выдаваемый алгоритмом классификации в результате его применения к данному конкретному объекту.\n",
    "\n"
   ]
  },
  {
   "cell_type": "markdown",
   "metadata": {},
   "source": [
    "## Формальная постановка задачи классификации  \n",
    "<br>\n",
    "Пусть $X$ — множество описаний объектов, $Y$ — конечное множество номеров (имён, меток) классов. Существует неизвестная целевая зависимость — отображение $y^{*}:\\; X\\to Y$, значения которой известны только на объектах конечной обучающей выборки $X^m = \\{(x_1,y_1),\\dots,(x_m,y_m)\\}$. Требуется построить алгоритм $a:\\; X\\to Y$, способный классифицировать произвольный объект $x \\in X$."
   ]
  },
  {
   "cell_type": "markdown",
   "metadata": {},
   "source": [
    "## Основные алгоритмы классификации\n",
    "\n",
    "В машинном обучении существует ряд базовых алгоритмов применяемых для широкого круга задач. Все они используют основаны на различных базовых принципах.\n",
    "\n",
    "* Машина опорных векторов (Suport Vector Machine - **SVM**);\n",
    "* Дерево решений (decision tree);\n",
    "* k - ближайших соседей (k Nearest Neighbours - **kNN**);\n",
    "* Моделирование вероятностей классов логистической регрессией;\n",
    "* Искусственные нейронные сети (ИНС, Artificial neural networks - **ANN**).\n"
   ]
  },
  {
   "cell_type": "markdown",
   "metadata": {},
   "source": [
    "Все представленные выше алгоитмы реализованы в библиотеке для Python - **scikit-learn**."
   ]
  },
  {
   "cell_type": "markdown",
   "metadata": {},
   "source": [
    "Перед рассмотрением самих алгоритмов загрузим данные и подготовим функию которая будет показыать как происходит разделение на классы нашими классификаторами."
   ]
  },
  {
   "cell_type": "code",
   "execution_count": null,
   "metadata": {},
   "outputs": [],
   "source": [
    "# Выполним некоторые импорты\n",
    "import numpy as np\n",
    "import pandas as pd\n",
    "from matplotlib import pyplot as plt\n",
    "from matplotlib.colors import ListedColormap\n",
    "\n",
    "import warnings\n",
    "warnings.filterwarnings('ignore')"
   ]
  },
  {
   "cell_type": "code",
   "execution_count": null,
   "metadata": {},
   "outputs": [],
   "source": [
    "def plot_classifier_regios(X, y, classifier, test_idx=None, resolution=.02):\n",
    "    '''Функция визуально показывает границы решений для двумерных наборов данных'''\n",
    "    markers = ('s', 'x','o', '^','v')\n",
    "    colors = ('r', 'b', 'g')\n",
    "    cmap = ListedColormap(colors[:len(np.unique(y))])\n",
    "    \n",
    "    x1_min, x1_max = np.array([X[:, 0].min() - 1, X[:, 0].max() + 1])\n",
    "    x2_min, x2_max = np.array([X[:, 1].min() - 1, X[:, 1].max() + 1])\n",
    "   \n",
    "    xx1, xx2 = np.meshgrid(np.arange(x1_min, x1_max, resolution),\n",
    "                           np.arange(x2_min, x2_max, resolution))\n",
    "    Z = classifier.predict(np.array([xx1.ravel(), xx2.ravel()]).T)\n",
    "    Z = Z.reshape(xx1.shape)\n",
    "    plt.contourf(xx1, xx2, Z, alpha=.4, cmap=cmap)\n",
    "    plt.xlim(xx1.min(), xx1.max())\n",
    "    plt.ylim(xx2.min(), xx2.max())\n",
    "    \n",
    "    for idx, cl in enumerate(np.unique(y)):\n",
    "        plt.scatter(x=X[y == cl, 0], y=X[y == cl, 1],\n",
    "                    alpha=.8, color=cmap(idx),\n",
    "                    marker=markers[idx], label=cl)\n"
   ]
  },
  {
   "cell_type": "code",
   "execution_count": null,
   "metadata": {},
   "outputs": [],
   "source": [
    "# Загрузим и подготовим необходимые для обучения моделей данные (пока только с двумя признаками по которым будем идентифицировать классы).\n",
    "from sklearn import datasets\n",
    "from sklearn.model_selection import train_test_split"
   ]
  },
  {
   "cell_type": "code",
   "execution_count": null,
   "metadata": {},
   "outputs": [],
   "source": [
    "iris = datasets.load_iris()\n",
    "X = iris.data[:, [2, 3]]  # 2, 3 - номера признаков в тренировочном наборе\n",
    "y = iris.target  # переменная идентифицирующая классы\n",
    "X_train, X_test, y_train, y_test = train_test_split(\n",
    "                                        X, y, test_size=.3, random_state=0)"
   ]
  },
  {
   "cell_type": "markdown",
   "metadata": {},
   "source": [
    "## Логистическая регрессия"
   ]
  },
  {
   "cell_type": "markdown",
   "metadata": {},
   "source": [
    "Логистическа регресия - способ классификации основанный на вероятности принадлежности объекта к некоторому классу. Для случаев с большим количеством классов применяется способ называемый \"Один против всех\" - **ОПВ** (*one-against-all*). Функция позволяющая преобразовать скалярное значение к искомой вероятности называется сигма функция - \n",
    "$\\sigma(x) = \\frac{1}{(1 + e^{-z})}$, где $z = \\mathbf{w}^{T}\\mathbf{x} = w_0x_0 + w_1x_1+\\dotsb+w_{m} x_{m}$<br>  здесь $z$ - чистый вход т.е. линейная комбинация весов и признаков в образце.  \n",
    "Построим график функции с помощью numpy и matplotlib."
   ]
  },
  {
   "cell_type": "code",
   "execution_count": null,
   "metadata": {},
   "outputs": [],
   "source": [
    "def sigmoid(z):\n",
    "    return 1.0 / ( 1.0 + np.exp(-z))"
   ]
  },
  {
   "cell_type": "code",
   "execution_count": null,
   "metadata": {},
   "outputs": [],
   "source": [
    "z = np.arange(-7, 7, .1)\n",
    "phi_z = sigmoid(z)\n",
    "plt.plot(z, phi_z)\n",
    "plt.axvline(0.0, color='k')\n",
    "plt.axhspan(0.0, 1.0, facecolor='1.0', alpha=1.0, ls='dotted')\n",
    "plt.axhline(y=.5, ls='dotted', color='k')\n",
    "plt.yticks([.0, .5, 1.0])\n",
    "plt.ylim(-0.1, 1.1)\n",
    "plt.ylabel('$\\sigma (z)$')\n",
    "plt.xlabel('z')\n",
    "plt.title('Сигма функция')"
   ]
  },
  {
   "cell_type": "code",
   "execution_count": null,
   "metadata": {},
   "outputs": [],
   "source": [
    "from sklearn.linear_model import LogisticRegression\n",
    "\n",
    "\n",
    "LR = LogisticRegression(C=1e3, solver='lbfgs', multi_class='auto')\n",
    "LR.fit(X_train, y_train)\n",
    "plot_classifier_regios(X_train, y_train, LR)\n",
    "plt.title('Логистическая регрессия')\n",
    "plt.xlabel('Длина лепестка')\n",
    "plt.ylabel('Ширина лепестка')"
   ]
  },
  {
   "cell_type": "markdown",
   "metadata": {},
   "source": [
    "Настраиваемые параметры логистической регресии:  \n",
    "**solver** - алгоритм подгонки весов логистической регрессии, часто используемые 'newton-cg', 'lbfgs', 'liblinear'. Выбор солвера зачастую влияет на время нахождения оптимальных весов в зависимости от размера выборки и количества признаков  \n",
    "**C** - величина регуляризации;\n",
    "max_iterint - максимум итераций.\n"
   ]
  },
  {
   "cell_type": "code",
   "execution_count": null,
   "metadata": {},
   "outputs": [],
   "source": [
    "weigths, params = [], []\n",
    "for c in np.arange(-5,5):\n",
    "    lr = LogisticRegression(C=10.0**c, random_state=0, solver='lbfgs', multi_class='ovr')\n",
    "    lr.fit(X_train, y_train)\n",
    "    weigths.append(lr.coef_[1])\n",
    "    params.append(10.0**c)\n",
    "weights = np.array(weigths)\n",
    "plt.plot(params, weights[:,0], label='Длина лепестка')\n",
    "plt.plot(params, weights[:,1],linestyle='--', label='Ширина лепестка')\n",
    "plt.ylabel('Весовой коэффициент')\n",
    "plt.xlabel('C')\n",
    "plt.xscale('log')\n",
    "plt.show()"
   ]
  },
  {
   "cell_type": "code",
   "execution_count": null,
   "metadata": {},
   "outputs": [],
   "source": [
    "# код который можно забрать и использовать\n",
    "from sklearn import metrics\n",
    "from sklearn.linear_model import LogisticRegression\n",
    "# Загрузим данные\n",
    "dataset = datasets.load_iris()\n",
    "# обучение (подгонка весов регрессии)\n",
    "LR = LogisticRegression()\n",
    "LR.fit(dataset.data, dataset.target)\n",
    "print(LR)\n",
    "# проверим как обучилась наша модель\n",
    "expected = dataset.target\n",
    "predicted = LR.predict(dataset.data)\n",
    "# результаты обучения\n",
    "print(metrics.confusion_matrix(expected, predicted))"
   ]
  },
  {
   "cell_type": "code",
   "execution_count": null,
   "metadata": {},
   "outputs": [],
   "source": []
  },
  {
   "cell_type": "markdown",
   "metadata": {},
   "source": [
    "## Машина опорных векторов\n",
    "\n",
    "В логистичесокой регресии мы хотели функцию потерь связанную с правдоподобием совместного распределения переменных, но есть другой метод связанный с максимизацией зазора между классами, давайте разбираться как он работает. \n",
    "С машиной опорных векторов (Support Vector Machine - SVM) наша задача оптимизации состоит в том, чтобы максимизировать <b>зазор</b>. Зазор определяется как расстояние между разделяющей гиперплоскостью (границей решения) и самыми близкими к этой гиперплоскости тренировочными образцами, так называемыми опорными векторами. Это проиллюстрировано на нижеследующем рисунке:\n",
    "\n",
    "![classification_img2.bmp](media/classification_img2.bmp)\n",
    "\n",
    "Для поиска векторов которые и будут определять обеспечивать максимальный зазор используются методы квадратичного программирования.\n",
    "\n",
    "Так уж выходит, что очень часто среди объектов обучающей выборки есть так называемые нарушители, которые \"выскакивают\" за границу разделения классов, при размере зазора который нас устраивает . Может быть и так, что выборка, и вовсе, не является линейно разделимой. В этом случае нам намомощб приходит так называемый мягкий зазор - soft margin. Эта идея основана на добавлении переменных допускающих ошибки при подборе опорных векторов. В scikit-learn для всех реализаций SVM - есть специальный параметр $C$ который позволяет регулировать \"жесткость\" решения, выглядит это приблизительно так\n",
    "\n",
    "![classification_img3.bmp](media/classification_img3.bmp)"
   ]
  },
  {
   "cell_type": "markdown",
   "metadata": {},
   "source": [
    "### Ядерный трюк\n",
    "\n",
    "Давайте рассмотрим ещё другой вариант линейно неразделимого случая"
   ]
  },
  {
   "cell_type": "code",
   "execution_count": null,
   "metadata": {},
   "outputs": [],
   "source": [
    "np.random.seed(0)\n",
    "Х_xor = np.random.randn(200, 2)  # сгенерируем случайные точки\n",
    "y_xor = np.logical_xor(Х_xor[:, 0] > 0 , Х_xor[:, 1] > 0)  # разметим их соответствующим образом\n",
    "y_xor = np.where(y_xor, 1, -1)  # присвоим им соответствующие метки классов\n",
    "plt.scatter(Х_xor[y_xor==1 , 0], Х_xor[y_xor==1, 1],\n",
    "            marker= 'x', label='1' )\n",
    "plt.scatter(Х_xor[y_xor == -1, 0] , Х_xor[y_xor== -1, 1],\n",
    "            marker= 's', label='-1')\n",
    "plt.ylim(-3.0)\n",
    "plt.legend()\n",
    "plt.show() "
   ]
  },
  {
   "cell_type": "markdown",
   "metadata": {},
   "source": [
    "Даже очень сильно смягчив зазор между классами, очевидно, что эта выборка является линейно неразделимой. Для таких ситуаций был придуман так называемый kernel trik (ядерный трюк, расширение ядра). Он заключается в том чтобы исходные признаки и добавить к ним такие которые являются их нелинейной комбнацией.\n",
    "\n",
    "$\\phi(x_1, x_2) = (z_1, z_2, z_3) = (x_1, x_2, x_1^2 + x_2^2)$\n",
    "\n",
    "Это дает нам возможность разделить эти два показанных на графике класса ли нейной гиперплоскостью, которая становится нелинейной границей решения, если ее спроецировать назад на исходное пространство признаков:\n",
    "\n",
    "![classification_img4.bmp](media/classification_img4.bmp)\n",
    "\n",
    "[анимированный вариант](https://www.youtube.com/watch?v=3liCbRZPrZA)"
   ]
  },
  {
   "cell_type": "markdown",
   "metadata": {},
   "source": [
    "Посмотрим как такое преобразование поможет справится с нашей XOR  выборкой."
   ]
  },
  {
   "cell_type": "code",
   "execution_count": null,
   "metadata": {},
   "outputs": [],
   "source": [
    "from sklearn.svm import SVC  # импортируем Support Vector Classifier\n",
    "\n",
    "\n",
    "svm = SVC(kernel='rbf', random_state=0 , gamma=0.10, C=10.0)\n",
    "svm.fit(Х_xor, y_xor)\n",
    "plot_classifier_regios(Х_xor, y_xor, classifier=svm)\n",
    "plt.legend(loc='upper left')\n",
    "plt.show () "
   ]
  },
  {
   "cell_type": "markdown",
   "metadata": {},
   "source": [
    "Здесь, в качестве ядра мы использовали rbf - радиально базисную функцию, коэффициенты которой основаны на стстастических показателях распределений классов. Похожий результат даёет полиноминальное ядро степени 4."
   ]
  },
  {
   "cell_type": "code",
   "execution_count": null,
   "metadata": {},
   "outputs": [],
   "source": [
    "svm = SVC(kernel='poly', degree=4, random_state=0, C=10.0)\n",
    "svm.fit(Х_xor, y_xor)\n",
    "plot_classifier_regios(Х_xor, y_xor, classifier=svm)\n",
    "plt.legend(loc='upper left')\n",
    "plt.show () "
   ]
  },
  {
   "cell_type": "markdown",
   "metadata": {},
   "source": [
    "И наконец посмотрим, что получится для задачи с Ирисами"
   ]
  },
  {
   "cell_type": "code",
   "execution_count": null,
   "metadata": {},
   "outputs": [],
   "source": [
    "from sklearn.svm import SVC\n",
    "\n",
    "\n",
    "svc = SVC(kernel='rbf', C=1e3, gamma='scale')\n",
    "svc.fit(X_train, y_train)\n",
    "plot_classifier_regios(X_train, y_train, svc)\n",
    "plt.title('SVM')\n",
    "plt.xlabel('Длина лепестка')\n",
    "plt.ylabel('Ширина лепестка')"
   ]
  },
  {
   "cell_type": "markdown",
   "metadata": {},
   "source": [
    "## Дерево решений\n",
    "---\n",
    "Деревья решений являются классом очень эффективной модели машинного обучения, позволяющей получить высокую точность в решении многих задач, сохраняя при этом высокий уровень интерпретации. Четкость представления информации делает деревья решений особенными среди других моделей машинного обучения. Освоенные деревом решений «знания» напрямую формируются в иерархическую структуру, которая хранит и представляет знания в понятном даже для неспециалистов виде.\n"
   ]
  },
  {
   "cell_type": "code",
   "execution_count": 37,
   "metadata": {},
   "outputs": [],
   "source": [
    "from sklearn.tree import DecisionTreeClassifier"
   ]
  },
  {
   "cell_type": "code",
   "execution_count": 38,
   "metadata": {},
   "outputs": [
    {
     "data": {
      "text/plain": [
       "Text(0, 0.5, 'Ширина лепестка')"
      ]
     },
     "execution_count": 38,
     "metadata": {},
     "output_type": "execute_result"
    },
    {
     "data": {
      "image/png": "[encoded data removed]",
      "text/plain": [
       "<Figure size 432x288 with 1 Axes>"
      ]
     },
     "metadata": {},
     "output_type": "display_data"
    }
   ],
   "source": [
    "classification_tree = DecisionTreeClassifier()\n",
    "\n",
    "classification_tree.fit(X_train, y_train)\n",
    "plot_classifier_regios(X_train, y_train, classification_tree)\n",
    "plt.title('Дерево решений')\n",
    "plt.xlabel('Длина лепестка')\n",
    "plt.ylabel('Ширина лепестка')"
   ]
  },
  {
   "cell_type": "code",
   "execution_count": 40,
   "metadata": {},
   "outputs": [],
   "source": [
    "# пример со всеми признаками\n",
    "classification_tree = DecisionTreeClassifier()\n",
    "\n",
    "# обучение модели\n",
    "classification_tree = classification_tree.fit(iris.data, iris.target)"
   ]
  },
  {
   "cell_type": "code",
   "execution_count": 41,
   "metadata": {},
   "outputs": [
    {
     "data": {
      "text/plain": [
       "'iris.pdf'"
      ]
     },
     "execution_count": 41,
     "metadata": {},
     "output_type": "execute_result"
    }
   ],
   "source": [
    "# Посмотреть полученное дерево можно с помощью библиотеки graphviz\n",
    "import graphviz \n",
    "from sklearn import tree\n",
    "\n",
    "\n",
    "dot_data = tree.export_graphviz(classification_tree, out_file=None, \n",
    "                     feature_names=iris.feature_names,  \n",
    "                     class_names=iris.target_names,\n",
    "                     filled=True, rounded=True,\n",
    "                     special_characters=True)\n",
    "graph = graphviz.Source(dot_data)\n",
    "graph.render(\"iris\")"
   ]
  },
  {
   "cell_type": "markdown",
   "metadata": {},
   "source": [
    "Выглядит полученное решение следующим образом \n",
    "\n",
    "![classification_img5.bmp](media/classification_img5.bmp)"
   ]
  },
  {
   "cell_type": "markdown",
   "metadata": {},
   "source": []
  },
  {
   "cell_type": "markdown",
   "metadata": {},
   "source": [
    "параметры \n",
    "\n",
    "**max_depth**: максимальная глубина дерева — точка, на которой останавливается разбиение узлов. Это похоже на выбор максимального количества слоев в глубокой нейронной сети. Меньшее количество сделает модель быстрой, но не точной. Большее количество увеличивает точность, но создает риски переобучения и замедляет процесс.\n",
    "\n",
    "**max_features**: число признаков для поиска лучшей точки для разбиения. Чем больше число, тем лучше результат. Но в этом случае обучение займет больше времени.\n",
    "\n",
    "**min_impurity_split**: порог для ранней остановки роста дерева. Узел разобьется только в том случае, если его точность будет выше указанного порога. Такой метод может служить в качестве компромисса между минимизацией переобучения (высокое значение, маленькое дерево) и высокой точностью (низкое значение, большое дерево).\n",
    "\n",
    "**presort**: выбор того, нужно ли предварительно сортировать данные для ускорения поиска наилучшего разбиения при подборе. Если данные заранее отсортируются по каждому признаку, то алгоритму обучения будет гораздо проще найти хорошие значения для разбиения."
   ]
  },
  {
   "cell_type": "markdown",
   "metadata": {},
   "source": [
    "Одинокое дерево решений один из лучших вариантов для того чтобы понять логику разделения обучающей выборки. На практике, дерево решений подходит для исследования предметной области, когда полученная инорфмация в последствии нужна для работы лиц принимающих решения или при построения алгоритмов диагностики и поиска неисправности технических систем."
   ]
  },
  {
   "cell_type": "markdown",
   "metadata": {},
   "source": [
    "## Случайный лес\n",
    "\n",
    "Если не контролировать глубину и не проводить усечение одиночного дерево, то такая модель в очень склонна к переобучению т.е. к повторению обучающей выборки. Хорошим развитием идей решающих правил является применения ансамбля решающих деревьев или случайного леса (Random Forest).\n",
    "\n",
    "Есть два принципиально разных подхода к формированию случайного леса:\n",
    "\n",
    "1) На разных частях обучающей выборки и построить деревья каждый раз разрешая использовать не полный набор признаков. Для распознавания можно провести голосование деревьев. Определяется класс по всем деревьям, класс с наибольшим количеством голосов является результатом. Такой подход называется беггинг - bagging(сокр. от <b>bo</b>otstrap <b>agg</b>regat<b>ing</b>)  \n",
    "\n",
    "2) Другим методом улучшения предсказаний является бустинг (boosting), идея которого заключается в итеративном процессе последовательного построения частных моделей. Каждая новая модель обучается с использованием информации об ошибках, сделанных на предыдущем этапе, а результирующая функция представляет собой линейную комбинацию всего ансамбля моделей с учетом минимизации любой штрафной функции. \n",
    "\n",
    "Подобно бэггингу, бустинг является общим подходом, который можно применять ко многим статистическим методам регрессии и классификации. Далее мы более конкретно рассмотрим логику построения ансамблей алгоритмов, а пока что сравним результаты полученные на лесах."
   ]
  },
  {
   "cell_type": "code",
   "execution_count": 42,
   "metadata": {},
   "outputs": [
    {
     "data": {
      "text/plain": [
       "Text(0, 0.5, 'Ширина лепестка')"
      ]
     },
     "execution_count": 42,
     "metadata": {},
     "output_type": "execute_result"
    },
    {
     "data": {
      "image/png": "[encoded data removed]",
      "text/plain": [
       "<Figure size 432x288 with 1 Axes>"
      ]
     },
     "metadata": {},
     "output_type": "display_data"
    }
   ],
   "source": [
    "from sklearn.ensemble import RandomForestClassifier, GradientBoostingClassifier\n",
    "\n",
    "\n",
    "forest = RandomForestClassifier(criterion='entropy',\n",
    "    n_estimators=10,\n",
    "    random_state=1,\n",
    "    n_jobs=2)\n",
    "forest.fit(X_train, y_train)\n",
    "plot_classifier_regios(X, y, classifier=forest)\n",
    "plt.title('RandomForestClassifier')\n",
    "plt.xlabel('Длина лепестка')\n",
    "plt.ylabel('Ширина лепестка')"
   ]
  },
  {
   "cell_type": "code",
   "execution_count": 43,
   "metadata": {},
   "outputs": [
    {
     "data": {
      "text/plain": [
       "Text(0, 0.5, 'Ширина лепестка')"
      ]
     },
     "execution_count": 43,
     "metadata": {},
     "output_type": "execute_result"
    },
    {
     "data": {
      "image/png": "[encoded data removed]",
      "text/plain": [
       "<Figure size 432x288 with 1 Axes>"
      ]
     },
     "metadata": {},
     "output_type": "display_data"
    }
   ],
   "source": [
    "forest = GradientBoostingClassifier(\n",
    "    n_estimators=10,\n",
    "    random_state=1,\n",
    ")\n",
    "forest.fit(X_train, y_train)\n",
    "plot_classifier_regios(X, y, classifier=forest)\n",
    "plt.title('GradientBoostingClassifier')\n",
    "plt.xlabel('Длина лепестка')\n",
    "plt.ylabel('Ширина лепестка')"
   ]
  },
  {
   "cell_type": "markdown",
   "metadata": {},
   "source": [
    "## kNN - Ленивая классификация\n",
    "\n",
    "Последним алгоритмом который мы обсудим является алгоритм $k$-ближайших соседей ($k-nearest neighbor$, $KNN$). Данный алгоритм строится на идее, что рядом объектами одного класса будет находится объект такого-же класса - Гипотеза компактности. Уже в этом описании заключаются два вопроса, ответы на которые позволят построить качественный классификатор, а именно:\n",
    "\n",
    "1) Сколько должно быть соседних объектов, чтобы адекватно различать классы?\n",
    "\n",
    "2) Что такое \"рядом\"?\n",
    "\n",
    "Давайте разбираться по порядку. В первую очередь необходимо решить, какое k- соседей необходимо чтобы принять решение? При $k=1$, мы получим плохую обобщающую способность, т.к. только один ближайший сосед будет определять класс незнакомого объекта. С ростом $k$, между соседями начинается конкуренция за присвоение ему своего класса и чем больше будет $k$, тем больше будет таких объектов, и на границах классов ситуация может быть неоднозначная. Рассмотрим ситуацию когда все $k=3$ ближайших соседи,  относятся к разным классам, в таком случае имеет место быть взвешенное голосвание, результирующий класс по самому ближайшему из всех соседей. Если при $k=3$, два соседа одного класса находятся далеко, а самый ближайший объект другого класса, взвешенное голосование позволит определить класс примера наиболее точно.\n",
    "$votes(class)= \\sum \\limits _{i=1}^k \\frac {1} {d(x^{(1)},x^{(2)})}$\n",
    "Здесь функция $d(x^{(1)},x^{(2)})$- функуция определяющая расстояние между объектами. Самое простое это Евклидово расстояние которе определяется как корень суммы квадратов разности координат:\n",
    "\n",
    "$d(x^{(1)},x^{(2)}) = \\sqrt {\\sum \\limits _{j=1}^m(x^{(1)}_j - x^{(2)}_j)^2}$\n",
    "\n",
    "Существуют и другие варианты, например манхетенское расстояние\n",
    "\n",
    "$d(x^{(1)},x^{(2)}) = \\sum \\limits _{j=1}^m(x^{(1)}_j - x^{(2)}_j)$\n",
    "\n",
    "Важно понимать, что раз речь зашла о расстояниях, то масштаб в котом выражены разные признаки также оказывает влияние на результат классификации (из за того что под один знак суммы попадают разности различных координат). Для того чтобы избежать этого влияния перед обучением модели необходимо производить нормализацию признаков - уложить их в один масштаб. Распространены два вида нормализации:  \n",
    "1) минимаксная нормализация: $x^{(i)}_{new} = \\frac{x^{(i)} - x_{min}} {x_{max}-x_{min}}$;  \n",
    "2) нормализация с помощью стандартного отклонения: $x^{(i)}_{new} = \\frac{x^{(i)} - x_{mean}} {\\sigma_x}$."
   ]
  },
  {
   "cell_type": "code",
   "execution_count": 44,
   "metadata": {},
   "outputs": [
    {
     "data": {
      "text/plain": [
       "Text(0, 0.5, 'Ширина лепестка')"
      ]
     },
     "execution_count": 44,
     "metadata": {},
     "output_type": "execute_result"
    },
    {
     "data": {
      "image/png": "[encoded data removed]",
      "text/plain": [
       "<Figure size 432x288 with 1 Axes>"
      ]
     },
     "metadata": {},
     "output_type": "display_data"
    }
   ],
   "source": [
    "from sklearn.neighbors import KNeighborsClassifier\n",
    "\n",
    "\n",
    "neighbors = KNeighborsClassifier(\n",
    "    n_neighbors=3,  # устанавливаем количетво соседей\n",
    "    metric='minkowski',\n",
    "    p=2  # Евклидово расстояние является частным случаем метрики Минковского при p=2\n",
    ")\n",
    "neighbors.fit(X_train, y_train)\n",
    "plot_classifier_regios(X, y, classifier=neighbors)\n",
    "plt.title('KNN (k=3)')\n",
    "plt.xlabel('Длина лепестка')\n",
    "plt.ylabel('Ширина лепестка')\n"
   ]
  },
  {
   "cell_type": "markdown",
   "metadata": {},
   "source": [
    "На практике идея компактности имеет ряд достоинств:\n",
    "* простота интерпретации;\n",
    "* хорошо работает на небольших выборках;\n",
    "* подходит для беглово взгляда на данные;\n",
    "* работает как классификацией так и с регрессией, так и с кластеризацией.  \n",
    "\n",
    "Сложности использования данного алгоритма заключаются кроются в большом количестве гиперпараметров для тонкой настроки алгоритма и качественного препроцессинга."
   ]
  },
  {
   "cell_type": "code",
   "execution_count": null,
   "metadata": {},
   "outputs": [],
   "source": []
  }
 ],
 "metadata": {
  "kernelspec": {
   "display_name": "Python 3",
   "language": "python",
   "name": "python3"
  },
  "language_info": {
   "codemirror_mode": {
    "name": "ipython",
    "version": 3
   },
   "file_extension": ".py",
   "mimetype": "text/x-python",
   "name": "python",
   "nbconvert_exporter": "python",
   "pygments_lexer": "ipython3",
   "version": "3.6.8"
  }
 },
 "nbformat": 4,
 "nbformat_minor": 2
}
